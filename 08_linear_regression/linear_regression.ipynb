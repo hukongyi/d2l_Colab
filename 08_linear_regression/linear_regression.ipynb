{
  "cells": [
    {
      "cell_type": "markdown",
      "metadata": {
        "id": "view-in-github",
        "colab_type": "text"
      },
      "source": [
        "<a href=\"https://colab.research.google.com/github/hukongyi/d2l_Colab/blob/main/08_linear_regression/linear_regression.ipynb\" target=\"_parent\"><img src=\"https://colab.research.google.com/assets/colab-badge.svg\" alt=\"Open In Colab\"/></a>"
      ]
    },
    {
      "cell_type": "code",
      "source": [
        "!pip install d2l > /dev/null\n",
        "!pip install matplotlib_inline > /dev/null"
      ],
      "metadata": {
        "id": "peDeXabmBTai"
      },
      "id": "peDeXabmBTai",
      "execution_count": 12,
      "outputs": []
    },
    {
      "cell_type": "markdown",
      "id": "1ee44bb0",
      "metadata": {
        "id": "1ee44bb0"
      },
      "source": [
        "# 线性回归的从零实现"
      ]
    },
    {
      "cell_type": "code",
      "execution_count": 13,
      "id": "c50ad7bf",
      "metadata": {
        "id": "c50ad7bf"
      },
      "outputs": [],
      "source": [
        "import torch\n",
        "import random\n",
        "import matplotlib.pyplot as plt\n",
        "%matplotlib inline"
      ]
    },
    {
      "cell_type": "code",
      "execution_count": 14,
      "id": "a50907bd",
      "metadata": {
        "colab": {
          "base_uri": "https://localhost:8080/",
          "height": 35
        },
        "id": "a50907bd",
        "outputId": "f0278aa3-3873-488e-962f-d191b3e829eb"
      },
      "outputs": [
        {
          "output_type": "execute_result",
          "data": {
            "text/plain": [
              "'1.12.1+cu113'"
            ],
            "application/vnd.google.colaboratory.intrinsic+json": {
              "type": "string"
            }
          },
          "metadata": {},
          "execution_count": 14
        }
      ],
      "source": [
        "torch.__version__"
      ]
    },
    {
      "cell_type": "code",
      "execution_count": 15,
      "id": "cd4cf490",
      "metadata": {
        "id": "cd4cf490"
      },
      "outputs": [],
      "source": [
        "def synthetic_data(w, b, num_examples):\n",
        "    x = torch.normal(0, 1, (num_examples, len(w)))\n",
        "    y = torch.matmul(x, w)+b\n",
        "    y += torch.normal(0, 0.01, y.shape)\n",
        "    return x, y.reshape(-1, 1)\n",
        "\n",
        "\n",
        "true_w = torch.tensor([2, -3.4])\n",
        "true_b = 4.2\n",
        "features, labels = synthetic_data(true_w, true_b, 1000)"
      ]
    },
    {
      "cell_type": "code",
      "execution_count": 16,
      "id": "8832aaa2",
      "metadata": {
        "colab": {
          "base_uri": "https://localhost:8080/",
          "height": 282
        },
        "id": "8832aaa2",
        "outputId": "6ab2772e-ac4c-440c-a444-88d8efc6820c"
      },
      "outputs": [
        {
          "output_type": "execute_result",
          "data": {
            "text/plain": [
              "<matplotlib.collections.PathCollection at 0x7fc9ad80d910>"
            ]
          },
          "metadata": {},
          "execution_count": 16
        },
        {
          "output_type": "display_data",
          "data": {
            "text/plain": [
              "<Figure size 432x288 with 1 Axes>"
            ],
            "image/png": "[encoded data removed]"
          },
          "metadata": {
            "needs_background": "light"
          }
        }
      ],
      "source": [
        "plt.scatter(features[:, 1].numpy(), labels.numpy(), 1)"
      ]
    },
    {
      "cell_type": "code",
      "execution_count": null,
      "id": "8bd6dc64",
      "metadata": {
        "colab": {
          "base_uri": "https://localhost:8080/"
        },
        "id": "8bd6dc64",
        "outputId": "86889b63-05b6-4265-9d5b-1b8315acc0fc"
      },
      "outputs": [
        {
          "output_type": "stream",
          "name": "stdout",
          "text": [
            "tensor([[ 0.7463, -0.4519],\n",
            "        [ 0.6155,  0.3076],\n",
            "        [-0.2243,  0.3889],\n",
            "        [ 0.3196,  0.8492],\n",
            "        [ 0.6757,  1.8440],\n",
            "        [ 0.8298,  1.8054],\n",
            "        [ 1.0324,  0.1608],\n",
            "        [ 0.1079,  0.5869],\n",
            "        [-0.0562,  0.8911],\n",
            "        [ 1.8345, -0.3553]]) \n",
            " tensor([[ 7.2218],\n",
            "        [ 4.3878],\n",
            "        [ 2.4412],\n",
            "        [ 1.9515],\n",
            "        [-0.7237],\n",
            "        [-0.2711],\n",
            "        [ 5.7144],\n",
            "        [ 2.4363],\n",
            "        [ 1.0603],\n",
            "        [ 9.0756]])\n"
          ]
        }
      ],
      "source": [
        "def data_iter(batch_size, features, labels):\n",
        "    num_examples = len(features)\n",
        "    indices = list(range(num_examples))\n",
        "    random.shuffle(indices)\n",
        "    for i in range(0, num_examples, batch_size):\n",
        "        batch_indice = torch.tensor(\n",
        "            indices[i: min(i+batch_size, num_examples)])\n",
        "        yield features[batch_indice], labels[batch_indice]\n",
        "\n",
        "\n",
        "batch_size = 10\n",
        "\n",
        "for X, y in data_iter(batch_size, features, labels):\n",
        "    print(X, '\\n', y)\n",
        "    break"
      ]
    },
    {
      "cell_type": "code",
      "execution_count": null,
      "id": "2b88638e",
      "metadata": {
        "id": "2b88638e"
      },
      "outputs": [],
      "source": [
        "w = torch.normal(0, 0.01, size=(2, 1), requires_grad=True)\n",
        "b = torch.zeros(1, requires_grad=True)"
      ]
    },
    {
      "cell_type": "code",
      "execution_count": null,
      "id": "d21b7580",
      "metadata": {
        "id": "d21b7580"
      },
      "outputs": [],
      "source": [
        "def linreg(X, w, b):\n",
        "    return torch.matmul(X, w) + b"
      ]
    },
    {
      "cell_type": "code",
      "execution_count": null,
      "id": "f62a9a60",
      "metadata": {
        "id": "f62a9a60"
      },
      "outputs": [],
      "source": [
        "def squared_loss(y_hat, y):\n",
        "    return (y_hat-y.reshape(y_hat.shape))**2/2"
      ]
    },
    {
      "cell_type": "code",
      "execution_count": null,
      "id": "3b77629c",
      "metadata": {
        "id": "3b77629c"
      },
      "outputs": [],
      "source": [
        "def sgd(params, lr, batch_size):\n",
        "    with torch.no_grad():\n",
        "        for param in params:\n",
        "            param -= lr * param.grad / batch_size\n",
        "            param.grad.zero_()"
      ]
    },
    {
      "cell_type": "code",
      "execution_count": null,
      "id": "c64b72b2",
      "metadata": {
        "colab": {
          "base_uri": "https://localhost:8080/"
        },
        "id": "c64b72b2",
        "outputId": "9e01961f-53c8-4eda-c447-5d8662151f0d"
      },
      "outputs": [
        {
          "output_type": "stream",
          "name": "stdout",
          "text": [
            "epoch 1, loss 0.03991\n",
            "epoch 2, loss 0.00015\n",
            "epoch 3, loss 0.00005\n"
          ]
        }
      ],
      "source": [
        "lr = 0.03\n",
        "num_epochs = 3\n",
        "net = linreg\n",
        "loss = squared_loss\n",
        "\n",
        "for epoch in range(num_epochs):\n",
        "    for X, y in data_iter(batch_size, features, labels):\n",
        "        l = loss(net(X, w, b), y)\n",
        "        l.sum().backward()\n",
        "        sgd([w, b], lr, batch_size)\n",
        "    with torch.no_grad():\n",
        "        train_l = loss(net(features, w, b), labels)\n",
        "        print(f'epoch {epoch+1}, loss {float(train_l.mean()):0.5f}')"
      ]
    },
    {
      "cell_type": "code",
      "execution_count": null,
      "id": "bc47b462",
      "metadata": {
        "colab": {
          "base_uri": "https://localhost:8080/"
        },
        "id": "bc47b462",
        "outputId": "9a8f37b2-e8ae-4c5d-91e8-573ffce3edb5"
      },
      "outputs": [
        {
          "output_type": "stream",
          "name": "stdout",
          "text": [
            "w的估计误差：tensor([-2.1601e-04, -1.9312e-05], grad_fn=<SubBackward0>)\n",
            "b的估计误差：tensor([0.0007], grad_fn=<RsubBackward1>)\n"
          ]
        }
      ],
      "source": [
        "print(f'w的估计误差：{true_w-w.reshape(true_w.shape)}')\n",
        "print(f'b的估计误差：{true_b-b}')"
      ]
    },
    {
      "cell_type": "markdown",
      "id": "1d96272b",
      "metadata": {
        "id": "1d96272b"
      },
      "source": [
        "# 线性回归的简洁实现"
      ]
    },
    {
      "cell_type": "code",
      "execution_count": null,
      "id": "86f1c4d3",
      "metadata": {
        "id": "86f1c4d3"
      },
      "outputs": [],
      "source": [
        "import numpy as np\n",
        "import torch\n",
        "from torch.utils import data\n",
        "from d2l import torch as d2l"
      ]
    },
    {
      "cell_type": "code",
      "execution_count": null,
      "id": "6b0341d4",
      "metadata": {
        "id": "6b0341d4"
      },
      "outputs": [],
      "source": [
        "true_w = torch.tensor([2, -3.4])\n",
        "true_b = 4.2\n",
        "features, labels = synthetic_data(true_w, true_b, 1000)"
      ]
    },
    {
      "cell_type": "code",
      "execution_count": null,
      "id": "ace55f5a",
      "metadata": {
        "id": "ace55f5a"
      },
      "outputs": [],
      "source": [
        "def load_array(data_arrays, batch_size, is_train=True):\n",
        "    dataset = data.TensorDataset(*data_arrays)\n",
        "    return data.DataLoader(dataset, batch_size, shuffle=is_train)"
      ]
    },
    {
      "cell_type": "code",
      "execution_count": null,
      "id": "f92a9d64",
      "metadata": {
        "colab": {
          "base_uri": "https://localhost:8080/"
        },
        "id": "f92a9d64",
        "outputId": "b7531d6d-9442-4081-f345-d798bb33c18c"
      },
      "outputs": [
        {
          "output_type": "execute_result",
          "data": {
            "text/plain": [
              "[tensor([[ 1.0625, -0.8409],\n",
              "         [-1.2559,  1.3893],\n",
              "         [-0.0883, -1.1716],\n",
              "         [-0.9658, -0.6640],\n",
              "         [ 1.4655,  0.6771],\n",
              "         [-0.4121,  1.4107],\n",
              "         [ 1.0817, -0.7868],\n",
              "         [-0.2314,  1.1123],\n",
              "         [ 0.4243,  0.7578],\n",
              "         [-0.5829,  0.7024]]), tensor([[ 9.1881],\n",
              "         [-3.0486],\n",
              "         [ 8.0283],\n",
              "         [ 4.5442],\n",
              "         [ 4.8276],\n",
              "         [-1.4290],\n",
              "         [ 9.0324],\n",
              "         [-0.0364],\n",
              "         [ 2.4676],\n",
              "         [ 0.6414]])]"
            ]
          },
          "metadata": {},
          "execution_count": 16
        }
      ],
      "source": [
        "batch_size = 10\n",
        "data_iter = load_array((features, labels), batch_size)\n",
        "\n",
        "next(iter(data_iter))"
      ]
    },
    {
      "cell_type": "code",
      "execution_count": null,
      "id": "3ff0c8da",
      "metadata": {
        "id": "3ff0c8da"
      },
      "outputs": [],
      "source": [
        "from torch import nn\n",
        "\n",
        "net = nn.Sequential(nn.Linear(2, 1))"
      ]
    },
    {
      "cell_type": "code",
      "execution_count": null,
      "id": "5935a629",
      "metadata": {
        "colab": {
          "base_uri": "https://localhost:8080/"
        },
        "id": "5935a629",
        "outputId": "04d6b777-5ec4-4208-f0bd-5bbde7e7e55a"
      },
      "outputs": [
        {
          "output_type": "execute_result",
          "data": {
            "text/plain": [
              "tensor([0.])"
            ]
          },
          "metadata": {},
          "execution_count": 18
        }
      ],
      "source": [
        "net[0].weight.data.normal_(0, 0.01)\n",
        "net[0].bias.data.fill_(0)"
      ]
    },
    {
      "cell_type": "code",
      "execution_count": null,
      "id": "4c1ab3a2",
      "metadata": {
        "id": "4c1ab3a2"
      },
      "outputs": [],
      "source": [
        "loss = nn.MSELoss()"
      ]
    },
    {
      "cell_type": "code",
      "execution_count": null,
      "id": "b8630668",
      "metadata": {
        "id": "b8630668"
      },
      "outputs": [],
      "source": [
        "trainer = torch.optim.SGD(net.parameters(), lr=0.03)"
      ]
    },
    {
      "cell_type": "code",
      "execution_count": null,
      "id": "18515f8a",
      "metadata": {
        "colab": {
          "base_uri": "https://localhost:8080/"
        },
        "id": "18515f8a",
        "outputId": "da6bcf77-aa69-459d-9b30-a197bb641cb4"
      },
      "outputs": [
        {
          "output_type": "stream",
          "name": "stdout",
          "text": [
            "epoch 1, loss 0.00022\n",
            "epoch 2, loss 0.00010\n",
            "epoch 3, loss 0.00010\n"
          ]
        }
      ],
      "source": [
        "num_epochs = 3\n",
        "for epoch in range(num_epochs):\n",
        "    for X,y in data_iter:\n",
        "        l = loss(net(X),y)\n",
        "        trainer.zero_grad()\n",
        "        l.backward()\n",
        "        trainer.step()\n",
        "    l = loss(net(features),labels)\n",
        "    print(f'epoch {epoch+1}, loss {l:0.5f}')"
      ]
    },
    {
      "cell_type": "code",
      "execution_count": null,
      "id": "1e6c3736",
      "metadata": {
        "id": "1e6c3736"
      },
      "outputs": [],
      "source": []
    }
  ],
  "metadata": {
    "kernelspec": {
      "display_name": "Python 3",
      "name": "python3"
    },
    "language_info": {
      "name": "python"
    },
    "colab": {
      "provenance": [],
      "include_colab_link": true
    }
  },
  "nbformat": 4,
  "nbformat_minor": 5
}