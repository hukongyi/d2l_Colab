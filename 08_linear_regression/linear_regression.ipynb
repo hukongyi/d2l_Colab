{
  "cells": [
    {
      "cell_type": "markdown",
      "metadata": {
        "id": "view-in-github",
        "colab_type": "text"
      },
      "source": [
        "<a href=\"https://colab.research.google.com/github/hukongyi/d2l_Colab/blob/main/08_linear_regression/linear_regression.ipynb\" target=\"_parent\"><img src=\"https://colab.research.google.com/assets/colab-badge.svg\" alt=\"Open In Colab\"/></a>"
      ]
    },
    {
      "cell_type": "code",
      "source": [
        "!pip install d2l > /dev/null\n",
        "!pip install matplotlib > /dev/null\n",
        "!pip install matplotlib_inline > /dev/null"
      ],
      "metadata": {
        "id": "peDeXabmBTai"
      },
      "id": "peDeXabmBTai",
      "execution_count": 1,
      "outputs": []
    },
    {
      "cell_type": "markdown",
      "id": "1ee44bb0",
      "metadata": {
        "id": "1ee44bb0"
      },
      "source": [
        "# 线性回归的从零实现"
      ]
    },
    {
      "cell_type": "code",
      "execution_count": 2,
      "id": "c50ad7bf",
      "metadata": {
        "id": "c50ad7bf"
      },
      "outputs": [],
      "source": [
        "import torch\n",
        "import random\n",
        "import matplotlib.pyplot as plt\n",
        "%matplotlib inline"
      ]
    },
    {
      "cell_type": "code",
      "execution_count": 3,
      "id": "a50907bd",
      "metadata": {
        "colab": {
          "base_uri": "https://localhost:8080/",
          "height": 35
        },
        "id": "a50907bd",
        "outputId": "711bfac3-271c-4c8e-b27f-92ead0f716e2"
      },
      "outputs": [
        {
          "output_type": "execute_result",
          "data": {
            "text/plain": [
              "'1.12.1+cu113'"
            ],
            "application/vnd.google.colaboratory.intrinsic+json": {
              "type": "string"
            }
          },
          "metadata": {},
          "execution_count": 3
        }
      ],
      "source": [
        "torch.__version__"
      ]
    },
    {
      "cell_type": "code",
      "execution_count": 4,
      "id": "cd4cf490",
      "metadata": {
        "id": "cd4cf490"
      },
      "outputs": [],
      "source": [
        "def synthetic_data(w, b, num_examples):\n",
        "    x = torch.normal(0, 1, (num_examples, len(w)))\n",
        "    y = torch.matmul(x, w)+b\n",
        "    y += torch.normal(0, 0.01, y.shape)\n",
        "    return x, y.reshape(-1, 1)\n",
        "\n",
        "\n",
        "true_w = torch.tensor([2, -3.4])\n",
        "true_b = 4.2\n",
        "features, labels = synthetic_data(true_w, true_b, 1000)"
      ]
    },
    {
      "cell_type": "code",
      "execution_count": 5,
      "id": "8832aaa2",
      "metadata": {
        "colab": {
          "base_uri": "https://localhost:8080/",
          "height": 283
        },
        "id": "8832aaa2",
        "outputId": "0ed06c0e-2a7c-429f-d719-6895793d7850"
      },
      "outputs": [
        {
          "output_type": "execute_result",
          "data": {
            "text/plain": [
              "<matplotlib.collections.PathCollection at 0x7fba7a3745d0>"
            ]
          },
          "metadata": {},
          "execution_count": 5
        },
        {
          "output_type": "display_data",
          "data": {
            "text/plain": [
              "<Figure size 432x288 with 1 Axes>"
            ],
            "image/png": "[encoded data removed]"
          },
          "metadata": {
            "needs_background": "light"
          }
        }
      ],
      "source": [
        "plt.scatter(features[:, 1].numpy(), labels.numpy(), 1)"
      ]
    },
    {
      "cell_type": "code",
      "execution_count": 6,
      "id": "8bd6dc64",
      "metadata": {
        "colab": {
          "base_uri": "https://localhost:8080/"
        },
        "id": "8bd6dc64",
        "outputId": "c2d59b72-cc12-43ad-8b1e-d4ad18be435f"
      },
      "outputs": [
        {
          "output_type": "stream",
          "name": "stdout",
          "text": [
            "tensor([[ 0.0825, -1.6055],\n",
            "        [ 1.2735,  0.9071],\n",
            "        [ 0.6589,  0.4092],\n",
            "        [ 0.8729,  1.4214],\n",
            "        [ 0.3959,  0.3264],\n",
            "        [ 1.3727, -0.0568],\n",
            "        [-0.9587,  0.0051],\n",
            "        [ 1.1491,  0.5455],\n",
            "        [-1.9138, -2.6757],\n",
            "        [-0.7797,  0.3882]]) \n",
            " tensor([[9.8200],\n",
            "        [3.6563],\n",
            "        [4.1284],\n",
            "        [1.1111],\n",
            "        [3.8796],\n",
            "        [7.1538],\n",
            "        [2.2526],\n",
            "        [4.6444],\n",
            "        [9.4937],\n",
            "        [1.3200]])\n"
          ]
        }
      ],
      "source": [
        "def data_iter(batch_size, features, labels):\n",
        "    num_examples = len(features)\n",
        "    indices = list(range(num_examples))\n",
        "    random.shuffle(indices)\n",
        "    for i in range(0, num_examples, batch_size):\n",
        "        batch_indice = torch.tensor(\n",
        "            indices[i: min(i+batch_size, num_examples)])\n",
        "        yield features[batch_indice], labels[batch_indice]\n",
        "\n",
        "\n",
        "batch_size = 10\n",
        "\n",
        "for X, y in data_iter(batch_size, features, labels):\n",
        "    print(X, '\\n', y)\n",
        "    break"
      ]
    },
    {
      "cell_type": "code",
      "execution_count": 7,
      "id": "2b88638e",
      "metadata": {
        "id": "2b88638e"
      },
      "outputs": [],
      "source": [
        "w = torch.normal(0, 0.01, size=(2, 1), requires_grad=True)\n",
        "b = torch.zeros(1, requires_grad=True)"
      ]
    },
    {
      "cell_type": "code",
      "execution_count": 8,
      "id": "d21b7580",
      "metadata": {
        "id": "d21b7580"
      },
      "outputs": [],
      "source": [
        "def linreg(X, w, b):\n",
        "    return torch.matmul(X, w) + b"
      ]
    },
    {
      "cell_type": "code",
      "execution_count": 9,
      "id": "f62a9a60",
      "metadata": {
        "id": "f62a9a60"
      },
      "outputs": [],
      "source": [
        "def squared_loss(y_hat, y):\n",
        "    return (y_hat-y.reshape(y_hat.shape))**2/2"
      ]
    },
    {
      "cell_type": "code",
      "execution_count": 10,
      "id": "3b77629c",
      "metadata": {
        "id": "3b77629c"
      },
      "outputs": [],
      "source": [
        "def sgd(params, lr, batch_size):\n",
        "    with torch.no_grad():\n",
        "        for param in params:\n",
        "            param -= lr * param.grad / batch_size\n",
        "            param.grad.zero_()"
      ]
    },
    {
      "cell_type": "code",
      "execution_count": 11,
      "id": "c64b72b2",
      "metadata": {
        "colab": {
          "base_uri": "https://localhost:8080/"
        },
        "id": "c64b72b2",
        "outputId": "844da837-907f-44b7-8c82-681cf12645ea"
      },
      "outputs": [
        {
          "output_type": "stream",
          "name": "stdout",
          "text": [
            "epoch 1, loss 0.04781\n",
            "epoch 2, loss 0.00021\n",
            "epoch 3, loss 0.00006\n"
          ]
        }
      ],
      "source": [
        "lr = 0.03\n",
        "num_epochs = 3\n",
        "net = linreg\n",
        "loss = squared_loss\n",
        "\n",
        "for epoch in range(num_epochs):\n",
        "    for X, y in data_iter(batch_size, features, labels):\n",
        "        l = loss(net(X, w, b), y)\n",
        "        l.sum().backward()\n",
        "        sgd([w, b], lr, batch_size)\n",
        "    with torch.no_grad():\n",
        "        train_l = loss(net(features, w, b), labels)\n",
        "        print(f'epoch {epoch+1}, loss {float(train_l.mean()):0.5f}')"
      ]
    },
    {
      "cell_type": "code",
      "execution_count": 12,
      "id": "bc47b462",
      "metadata": {
        "colab": {
          "base_uri": "https://localhost:8080/"
        },
        "id": "bc47b462",
        "outputId": "1a9ee28e-97dc-498c-f214-022987d2028b"
      },
      "outputs": [
        {
          "output_type": "stream",
          "name": "stdout",
          "text": [
            "w的估计误差：tensor([ 0.0002, -0.0003], grad_fn=<SubBackward0>)\n",
            "b的估计误差：tensor([-0.0002], grad_fn=<RsubBackward1>)\n"
          ]
        }
      ],
      "source": [
        "print(f'w的估计误差：{true_w-w.reshape(true_w.shape)}')\n",
        "print(f'b的估计误差：{true_b-b}')"
      ]
    },
    {
      "cell_type": "markdown",
      "id": "1d96272b",
      "metadata": {
        "id": "1d96272b"
      },
      "source": [
        "# 线性回归的简洁实现"
      ]
    },
    {
      "cell_type": "code",
      "execution_count": 13,
      "id": "86f1c4d3",
      "metadata": {
        "id": "86f1c4d3"
      },
      "outputs": [],
      "source": [
        "import numpy as np\n",
        "import torch\n",
        "from torch.utils import data\n",
        "from d2l import torch as d2l"
      ]
    },
    {
      "cell_type": "code",
      "execution_count": 14,
      "id": "6b0341d4",
      "metadata": {
        "id": "6b0341d4"
      },
      "outputs": [],
      "source": [
        "true_w = torch.tensor([2, -3.4])\n",
        "true_b = 4.2\n",
        "features, labels = synthetic_data(true_w, true_b, 1000)"
      ]
    },
    {
      "cell_type": "code",
      "execution_count": 15,
      "id": "ace55f5a",
      "metadata": {
        "id": "ace55f5a"
      },
      "outputs": [],
      "source": [
        "def load_array(data_arrays, batch_size, is_train=True):\n",
        "    dataset = data.TensorDataset(*data_arrays)\n",
        "    return data.DataLoader(dataset, batch_size, shuffle=is_train)"
      ]
    },
    {
      "cell_type": "code",
      "execution_count": 16,
      "id": "f92a9d64",
      "metadata": {
        "colab": {
          "base_uri": "https://localhost:8080/"
        },
        "id": "f92a9d64",
        "outputId": "719a1aa8-63c1-4b9e-80e1-e95f1a3a9cc4"
      },
      "outputs": [
        {
          "output_type": "execute_result",
          "data": {
            "text/plain": [
              "[tensor([[-0.1200,  0.9155],\n",
              "         [ 0.9365,  0.0828],\n",
              "         [-0.1828,  0.8094],\n",
              "         [ 0.7796, -0.1413],\n",
              "         [-2.1452,  0.6327],\n",
              "         [ 0.5719,  0.2098],\n",
              "         [-0.3947, -1.4894],\n",
              "         [ 0.4870, -0.4015],\n",
              "         [-0.1696,  0.3491],\n",
              "         [-1.1494, -0.3730]]), tensor([[ 0.8545],\n",
              "         [ 5.8009],\n",
              "         [ 1.0874],\n",
              "         [ 6.2205],\n",
              "         [-2.2438],\n",
              "         [ 4.6210],\n",
              "         [ 8.4752],\n",
              "         [ 6.5307],\n",
              "         [ 2.6843],\n",
              "         [ 3.1803]])]"
            ]
          },
          "metadata": {},
          "execution_count": 16
        }
      ],
      "source": [
        "batch_size = 10\n",
        "data_iter = load_array((features, labels), batch_size)\n",
        "\n",
        "next(iter(data_iter))"
      ]
    },
    {
      "cell_type": "code",
      "execution_count": 17,
      "id": "3ff0c8da",
      "metadata": {
        "id": "3ff0c8da"
      },
      "outputs": [],
      "source": [
        "from torch import nn\n",
        "\n",
        "net = nn.Sequential(nn.Linear(2, 1))"
      ]
    },
    {
      "cell_type": "code",
      "execution_count": 18,
      "id": "5935a629",
      "metadata": {
        "colab": {
          "base_uri": "https://localhost:8080/"
        },
        "id": "5935a629",
        "outputId": "6c9372b9-5fff-4469-a254-b35e14146b59"
      },
      "outputs": [
        {
          "output_type": "execute_result",
          "data": {
            "text/plain": [
              "tensor([0.])"
            ]
          },
          "metadata": {},
          "execution_count": 18
        }
      ],
      "source": [
        "net[0].weight.data.normal_(0, 0.01)\n",
        "net[0].bias.data.fill_(0)"
      ]
    },
    {
      "cell_type": "code",
      "execution_count": 19,
      "id": "4c1ab3a2",
      "metadata": {
        "id": "4c1ab3a2"
      },
      "outputs": [],
      "source": [
        "loss = nn.MSELoss()"
      ]
    },
    {
      "cell_type": "code",
      "execution_count": 20,
      "id": "b8630668",
      "metadata": {
        "id": "b8630668"
      },
      "outputs": [],
      "source": [
        "trainer = torch.optim.SGD(net.parameters(), lr=0.03)"
      ]
    },
    {
      "cell_type": "code",
      "execution_count": 21,
      "id": "18515f8a",
      "metadata": {
        "colab": {
          "base_uri": "https://localhost:8080/"
        },
        "id": "18515f8a",
        "outputId": "21e54ab8-fbb7-4d55-dded-fad1028d95d2"
      },
      "outputs": [
        {
          "output_type": "stream",
          "name": "stdout",
          "text": [
            "epoch 1, loss 0.000232\n",
            "epoch 2, loss 0.000100\n",
            "epoch 3, loss 0.000100\n"
          ]
        }
      ],
      "source": [
        "num_epochs = 3\n",
        "for epoch in range(num_epochs):\n",
        "    for X,y in data_iter:\n",
        "        l = loss(net(X),y)\n",
        "        trainer.zero_grad()\n",
        "        l.backward()\n",
        "        trainer.step()\n",
        "    l = loss(net(features),labels)\n",
        "    print(f'epoch {epoch+1}, loss {l:f}')"
      ]
    },
    {
      "cell_type": "code",
      "execution_count": 21,
      "id": "1e6c3736",
      "metadata": {
        "id": "1e6c3736"
      },
      "outputs": [],
      "source": []
    }
  ],
  "metadata": {
    "kernelspec": {
      "display_name": "Python [conda env:d2l]",
      "language": "python",
      "name": "conda-env-d2l-py"
    },
    "language_info": {
      "codemirror_mode": {
        "name": "ipython",
        "version": 3
      },
      "file_extension": ".py",
      "mimetype": "text/x-python",
      "name": "python",
      "nbconvert_exporter": "python",
      "pygments_lexer": "ipython3",
      "version": "3.8.13"
    },
    "colab": {
      "provenance": [],
      "include_colab_link": true
    }
  },
  "nbformat": 4,
  "nbformat_minor": 5
}